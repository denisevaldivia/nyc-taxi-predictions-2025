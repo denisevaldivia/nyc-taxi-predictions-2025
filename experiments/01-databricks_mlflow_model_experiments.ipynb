{
 "cells": [
  {
   "cell_type": "code",
   "execution_count": 1,
   "id": "82649484",
   "metadata": {},
   "outputs": [
    {
     "name": "stderr",
     "output_type": "stream",
     "text": [
      "2025/10/21 21:00:35 INFO mlflow.tracking.fluent: Experiment with name '/Users/pipochatgpt@gmail.com/nyc-taxi-experiments' does not exist. Creating a new experiment.\n"
     ]
    }
   ],
   "source": [
    "import os, mlflow\n",
    "from dotenv import load_dotenv\n",
    "\n",
    "load_dotenv(override=True)  # Carga las variables del archivo .env\n",
    "EXPERIMENT_NAME = \"/Users/pipochatgpt@gmail.com/nyc-taxi-experiments\"\n",
    "\n",
    "mlflow.set_tracking_uri(\"databricks\")\n",
    "experiment = mlflow.set_experiment(experiment_name=EXPERIMENT_NAME)"
   ]
  },
  {
   "cell_type": "code",
   "execution_count": 2,
   "id": "3e687f27",
   "metadata": {},
   "outputs": [],
   "source": [
    "import pickle\n",
    "import pandas as pd\n",
    "from sklearn.metrics import  root_mean_squared_error\n",
    "from sklearn.feature_extraction import  DictVectorizer"
   ]
  },
  {
   "cell_type": "code",
   "execution_count": 3,
   "id": "3e185691",
   "metadata": {},
   "outputs": [],
   "source": [
    "def read_dataframe(filename):\n",
    "\n",
    "    df = pd.read_parquet(filename)\n",
    "\n",
    "    df['duration'] = df.lpep_dropoff_datetime - df.lpep_pickup_datetime\n",
    "    df.duration = df.duration.apply(lambda td: td.total_seconds() / 60)\n",
    "\n",
    "    df = df[(df.duration >= 1) & (df.duration <= 60)]\n",
    "\n",
    "    categorical = ['PULocationID', 'DOLocationID']\n",
    "    df[categorical] = df[categorical].astype(str)\n",
    "\n",
    "    return df"
   ]
  },
  {
   "cell_type": "code",
   "execution_count": 4,
   "id": "b688aaaf",
   "metadata": {},
   "outputs": [],
   "source": [
    "df_train = read_dataframe('../data/green_tripdata_2025-01.parquet')\n",
    "df_val = read_dataframe('../data/green_tripdata_2025-02.parquet')"
   ]
  },
  {
   "cell_type": "code",
   "execution_count": 5,
   "id": "7d99aeb2",
   "metadata": {},
   "outputs": [],
   "source": [
    "def preprocess(df, dv):\n",
    "    df['PU_DO'] = df['PULocationID'] + '_' + df['DOLocationID']\n",
    "    categorical = ['PU_DO']\n",
    "    numerical = ['trip_distance']\n",
    "    train_dicts = df[categorical + numerical].to_dict(orient='records')\n",
    "    return dv.transform(train_dicts)"
   ]
  },
  {
   "cell_type": "code",
   "execution_count": 6,
   "id": "fc2adcde",
   "metadata": {},
   "outputs": [],
   "source": [
    "categorical = ['PULocationID', 'DOLocationID']\n",
    "numerical = ['trip_distance']\n",
    "dv = DictVectorizer()\n",
    "\n",
    "train_dicts = df_train[categorical + numerical].to_dict(orient='records')\n",
    "X_train = dv.fit_transform(train_dicts)\n",
    "\n",
    "X_val = preprocess(df_val, dv)"
   ]
  },
  {
   "cell_type": "code",
   "execution_count": 7,
   "id": "3cff952f",
   "metadata": {},
   "outputs": [],
   "source": [
    "target = 'duration'\n",
    "y_train = df_train[target].values\n",
    "y_val = df_val[target].values"
   ]
  },
  {
   "cell_type": "code",
   "execution_count": 8,
   "id": "4a8195ec",
   "metadata": {},
   "outputs": [],
   "source": [
    "training_dataset = mlflow.data.from_numpy(X_train.data, targets=y_train, name=\"green_tripdata_2025-01\")\n",
    "validation_dataset = mlflow.data.from_numpy(X_val.data, targets=y_val, name=\"green_tripdata_2025-02\")"
   ]
  },
  {
   "cell_type": "code",
   "execution_count": 9,
   "id": "6341b9ee",
   "metadata": {},
   "outputs": [],
   "source": [
    "import math\n",
    "import optuna\n",
    "import pathlib\n",
    "import xgboost as xgb\n",
    "from optuna.samplers import TPESampler\n",
    "from mlflow.models.signature import infer_signature"
   ]
  },
  {
   "cell_type": "code",
   "execution_count": 10,
   "id": "61cec673",
   "metadata": {},
   "outputs": [],
   "source": [
    "train = xgb.DMatrix(X_train, label=y_train)\n",
    "valid = xgb.DMatrix(X_val, label=y_val)"
   ]
  },
  {
   "cell_type": "code",
   "execution_count": 11,
   "id": "7953cde4",
   "metadata": {},
   "outputs": [],
   "source": [
    "# ------------------------------------------------------------\n",
    "# Definir la función objetivo para Optuna\n",
    "#    - Recibe un `trial`, que se usa para proponer hiperparámetros.\n",
    "#    - Entrena un modelo con esos hiperparámetros.\n",
    "#    - Calcula la métrica de validación (RMSE) y la retorna (Optuna la minimizará).\n",
    "#    - Abrimos un run anidado de MLflow para registrar cada trial.\n",
    "# ------------------------------------------------------------\n",
    "def objective(trial: optuna.trial.Trial):\n",
    "    # Hiperparámetros MUESTREADOS por Optuna en CADA trial.\n",
    "    # Nota: usamos log=True para emular rangos log-uniformes (similar a loguniform).\n",
    "    params = {\n",
    "        \"max_depth\": trial.suggest_int(\"max_depth\", 4, 100),\n",
    "        \"learning_rate\": trial.suggest_float(\"learning_rate\", math.exp(-3), 1.0, log=True),\n",
    "        \"reg_alpha\": trial.suggest_float(\"reg_alpha\",   math.exp(-5), math.exp(-1), log=True),\n",
    "        \"reg_lambda\": trial.suggest_float(\"reg_lambda\", math.exp(-6), math.exp(-1), log=True),\n",
    "        \"min_child_weight\": trial.suggest_float(\"min_child_weight\", math.exp(-1), math.exp(3), log=True),\n",
    "        \"objective\": \"reg:squarederror\",  \n",
    "        \"seed\": 42,                      \n",
    "    }\n",
    "\n",
    "    # Run anidado para dejar rastro de cada trial en MLflow\n",
    "    with mlflow.start_run(nested=True):\n",
    "        mlflow.set_tag(\"model_family\", \"xgboost\")  # etiqueta informativa\n",
    "        mlflow.log_params(params)                  # registra hiperparámetros del trial\n",
    "\n",
    "        # Entrenamiento con early stopping en el conjunto de validación\n",
    "        booster = xgb.train(\n",
    "            params=params,\n",
    "            dtrain=train,\n",
    "            num_boost_round=100,\n",
    "            evals=[(valid, \"validation\")],\n",
    "            early_stopping_rounds=10,\n",
    "        )\n",
    "\n",
    "        # Predicción y métrica en validación\n",
    "        y_pred = booster.predict(valid)\n",
    "        rmse = root_mean_squared_error(y_val, y_pred)\n",
    "\n",
    "        # Registrar la métrica principal\n",
    "        mlflow.log_metric(\"rmse\", rmse)\n",
    "\n",
    "        # La \"signature\" describe la estructura esperada de entrada y salida del modelo:\n",
    "        # incluye los nombres, tipos y forma (shape) de las variables de entrada y el tipo de salida.\n",
    "        # MLflow la usa para validar datos en inferencia y documentar el modelo en el Model Registry.\n",
    "        signature = infer_signature(X_val, y_pred)\n",
    "\n",
    "        # Guardar el modelo del trial como artefacto en MLflow.\n",
    "        mlflow.xgboost.log_model(\n",
    "            booster,\n",
    "            name=\"model\",\n",
    "            input_example=X_val[:5],\n",
    "            signature=signature\n",
    "        )\n",
    "\n",
    "    # Optuna minimiza el valor retornado\n",
    "    return rmse"
   ]
  },
  {
   "cell_type": "code",
   "execution_count": null,
   "id": "cb976ddd",
   "metadata": {},
   "outputs": [],
   "source": [
    "mlflow.xgboost.autolog(log_models=False)\n",
    "\n",
    "# ------------------------------------------------------------\n",
    "# Crear el estudio de Optuna\n",
    "#    - Usamos TPE (Tree-structured Parzen Estimator) como sampler.\n",
    "#    - direction=\"minimize\" porque queremos minimizar el RMSE.\n",
    "# ------------------------------------------------------------\n",
    "sampler = TPESampler(seed=42)\n",
    "study = optuna.create_study(direction=\"minimize\", sampler=sampler)\n",
    "\n",
    "# ------------------------------------------------------------\n",
    "# Ejecutar la optimización (n_trials = número de intentos)\n",
    "#    - Cada trial ejecuta la función objetivo con un set distinto de hiperparámetros.\n",
    "#    - Abrimos un run \"padre\" para agrupar toda la búsqueda.\n",
    "# ------------------------------------------------------------\n",
    "with mlflow.start_run(run_name=\"XGBoost Hyperparameter Optimization (Optuna)\", nested=True):\n",
    "    study.optimize(objective, n_trials=10)\n",
    "\n",
    "    # --------------------------------------------------------\n",
    "    # Recuperar y registrar los mejores hiperparámetros\n",
    "    # --------------------------------------------------------\n",
    "    best_params = study.best_params\n",
    "    # Asegurar tipos/campos fijos (por claridad y consistencia)\n",
    "    best_params[\"max_depth\"] = int(best_params[\"max_depth\"])\n",
    "    best_params[\"seed\"] = 42\n",
    "    best_params[\"objective\"] = \"reg:squarederror\"\n",
    "\n",
    "    mlflow.log_params(best_params)\n",
    "\n",
    "    # Etiquetas del run \"padre\" (metadatos del experimento)\n",
    "    mlflow.set_tags({\n",
    "        \"project\": \"NYC Taxi Time Prediction Project\",\n",
    "        \"optimizer_engine\": \"optuna\",\n",
    "        \"model_family\": \"xgboost\",\n",
    "        \"feature_set_version\": 1,\n",
    "    })\n",
    "\n",
    "    # --------------------------------------------------------\n",
    "    # 7) Entrenar un modelo FINAL con los mejores hiperparámetros\n",
    "    #    (normalmente se haría sobre train+val o con CV; aquí mantenemos el patrón original)\n",
    "    # --------------------------------------------------------\n",
    "    booster = xgb.train(\n",
    "        params=best_params,\n",
    "        dtrain=train,\n",
    "        num_boost_round=100,\n",
    "        evals=[(valid, \"validation\")],\n",
    "        early_stopping_rounds=10,\n",
    "    )\n",
    "\n",
    "    # Evaluar y registrar la métrica final en validación\n",
    "    y_pred = booster.predict(valid)\n",
    "    rmse = root_mean_squared_error(y_val, y_pred)\n",
    "    mlflow.log_metric(\"rmse\", rmse)\n",
    "\n",
    "    # --------------------------------------------------------\n",
    "    # 8) Guardar artefactos adicionales (p. ej. el preprocesador)\n",
    "    # --------------------------------------------------------\n",
    "    pathlib.Path(\"preprocessor\").mkdir(exist_ok=True)\n",
    "    with open(\"preprocessor/preprocessor.b\", \"wb\") as f_out:\n",
    "        pickle.dump(dv, f_out)\n",
    "\n",
    "    mlflow.log_artifact(\"preprocessor/preprocessor.b\", artifact_path=\"preprocessor\")\n",
    "\n",
    "    # La \"signature\" describe la estructura esperada de entrada y salida del modelo:\n",
    "    # incluye los nombres, tipos y forma (shape) de las variables de entrada y el tipo de salida.\n",
    "    # MLflow la usa para validar datos en inferencia y documentar el modelo en el Model Registry.\n",
    "    # Si X_val es la matriz dispersa (scipy.sparse) salida de DictVectorizer:\n",
    "    feature_names = dv.get_feature_names_out()\n",
    "    input_example = pd.DataFrame(X_val[:5].toarray(), columns=feature_names)\n",
    "\n",
    "    # Para que las longitudes coincidan, usa el mismo slice en y_pred\n",
    "    signature = infer_signature(input_example, y_val[:5])\n",
    "\n",
    "    # Guardar el modelo del trial como artefacto en MLflow.\n",
    "    mlflow.xgboost.log_model(\n",
    "        booster,\n",
    "        name=\"model\",\n",
    "        input_example=input_example,\n",
    "        signature=signature\n",
    "    )"
   ]
  },
  {
   "cell_type": "markdown",
   "id": "78f2002a",
   "metadata": {},
   "source": [
    "# **Registrar modelo en Model Registry**"
   ]
  },
  {
   "cell_type": "code",
   "execution_count": 13,
   "id": "0bc13d9c",
   "metadata": {},
   "outputs": [],
   "source": [
    "model_name = \"workspace.default.nyc-taxi-model\""
   ]
  },
  {
   "cell_type": "markdown",
   "id": "8834a39c",
   "metadata": {},
   "source": [
    "## **De forma Manual**"
   ]
  },
  {
   "cell_type": "code",
   "execution_count": 14,
   "id": "d2c25f8b",
   "metadata": {},
   "outputs": [
    {
     "name": "stderr",
     "output_type": "stream",
     "text": [
      "Successfully registered model 'workspace.default.nyc-taxi-model'.\n",
      "2025/10/21 21:15:47 WARNING mlflow.tracking._model_registry.fluent: Run with id 3a688c9c156648efa181e3064f9d3990 has no artifacts at artifact path 'model', registering model based on models:/m-0c1aad37d50c416abad8114a634a0ad4 instead\n"
     ]
    },
    {
     "data": {
      "application/vnd.jupyter.widget-view+json": {
       "model_id": "df2d5cbe75394228b356c2cbb3f6ef16",
       "version_major": 2,
       "version_minor": 0
      },
      "text/plain": [
       "Downloading artifacts:   0%|          | 0/7 [00:00<?, ?it/s]"
      ]
     },
     "metadata": {},
     "output_type": "display_data"
    },
    {
     "data": {
      "application/vnd.jupyter.widget-view+json": {
       "model_id": "0287d8a7d93f42c3ba9eb9fbb4385980",
       "version_major": 2,
       "version_minor": 0
      },
      "text/plain": [
       "Uploading artifacts:   0%|          | 0/8 [00:00<?, ?it/s]"
      ]
     },
     "metadata": {},
     "output_type": "display_data"
    },
    {
     "name": "stderr",
     "output_type": "stream",
     "text": [
      "Created version '1' of model 'workspace.default.nyc-taxi-model'.\n"
     ]
    }
   ],
   "source": [
    "run_id = input(\"Ingrese el run_id\")\n",
    "run_uri = f\"runs:/{run_id}/model\"\n",
    "\n",
    "result = mlflow.register_model(\n",
    "    model_uri=run_uri,\n",
    "    name=\"workspace.default.nyc-taxi-model\"\n",
    ")"
   ]
  },
  {
   "cell_type": "markdown",
   "id": "a1bc2732",
   "metadata": {},
   "source": [
    "## **De forma Automática**"
   ]
  },
  {
   "cell_type": "code",
   "execution_count": 15,
   "id": "9fd85e9a",
   "metadata": {},
   "outputs": [
    {
     "name": "stdout",
     "output_type": "stream",
     "text": [
      "🏆 Champion Run encontrado:\n",
      "Run ID: 1e32a80e6fb045b49bb195999ffcac2b\n",
      "RMSE: 5.862230443089824\n",
      "Params: {'custom_metric': 'None', 'early_stopping_rounds': '10', 'learning_rate': '0.21992487468175848', 'max_depth': '15', 'maximize': 'None', 'min_child_weight': '1.0357439143907545', 'num_boost_round': '100', 'objective': 'reg:squarederror', 'reg_alpha': '0.007731550026907306', 'reg_lambda': '0.23377457337376373', 'seed': '42', 'verbose_eval': 'True'}\n"
     ]
    }
   ],
   "source": [
    "runs = mlflow.search_runs(\n",
    "    experiment_names=[EXPERIMENT_NAME],\n",
    "    order_by=[\"metrics.rmse ASC\"],\n",
    "    output_format=\"list\"\n",
    ")\n",
    "\n",
    "# Obtener el mejor run\n",
    "if len(runs) > 0:\n",
    "    best_run = runs[0]\n",
    "    print(\"🏆 Champion Run encontrado:\")\n",
    "    print(f\"Run ID: {best_run.info.run_id}\")\n",
    "    print(f\"RMSE: {best_run.data.metrics['rmse']}\")\n",
    "    print(f\"Params: {best_run.data.params}\")\n",
    "else:\n",
    "    print(\"⚠️ No se encontraron runs con métrica RMSE.\")"
   ]
  },
  {
   "cell_type": "code",
   "execution_count": null,
   "id": "6ed7fa76",
   "metadata": {},
   "outputs": [],
   "source": [
    "result = mlflow.register_model(\n",
    "    model_uri=f\"runs:/{best_run.info.run_id}/model\",\n",
    "    name=model_name\n",
    ")"
   ]
  },
  {
   "cell_type": "markdown",
   "id": "40458389",
   "metadata": {},
   "source": [
    "# **Asignar Alias**"
   ]
  },
  {
   "cell_type": "code",
   "execution_count": 16,
   "id": "b35a61c0",
   "metadata": {},
   "outputs": [],
   "source": [
    "from mlflow import MlflowClient\n",
    "\n",
    "client = MlflowClient()"
   ]
  },
  {
   "cell_type": "code",
   "execution_count": 18,
   "id": "52bdc19d",
   "metadata": {},
   "outputs": [],
   "source": [
    "model_version = result.version\n",
    "new_alias = \"Champion\"\n",
    "\n",
    "client.set_registered_model_alias(\n",
    "    name=model_name,\n",
    "    alias=new_alias,\n",
    "    version=result.version\n",
    ")"
   ]
  },
  {
   "cell_type": "code",
   "execution_count": 19,
   "id": "8a951b85",
   "metadata": {},
   "outputs": [
    {
     "data": {
      "text/plain": [
       "<ModelVersion: aliases=[], creation_timestamp=1761102964996, current_stage=None, deployment_job_state=<ModelVersionDeploymentJobState: current_task_name='', job_id='', job_state='DEPLOYMENT_JOB_CONNECTION_STATE_UNSPECIFIED', run_id='', run_state='DEPLOYMENT_JOB_RUN_STATE_UNSPECIFIED'>, description='The model version 1 was transitioned to Champion on 2025-10-21 21:22:15.825153', last_updated_timestamp=1761103336211, metrics=[<Metric: dataset_digest='', dataset_name='', key='best_iteration', model_id='m-0c1aad37d50c416abad8114a634a0ad4', run_id='3a688c9c156648efa181e3064f9d3990', step=0, timestamp=1761102778952, value=80.0>,\n",
       " <Metric: dataset_digest='', dataset_name='', key='rmse', model_id='m-0c1aad37d50c416abad8114a634a0ad4', run_id='3a688c9c156648efa181e3064f9d3990', step=0, timestamp=1761102799301, value=5.862230443089824>,\n",
       " <Metric: dataset_digest='', dataset_name='', key='stopped_iteration', model_id='m-0c1aad37d50c416abad8114a634a0ad4', run_id='3a688c9c156648efa181e3064f9d3990', step=0, timestamp=1761102778952, value=89.0>,\n",
       " <Metric: dataset_digest='', dataset_name='', key='validation-rmse', model_id='m-0c1aad37d50c416abad8114a634a0ad4', run_id='3a688c9c156648efa181e3064f9d3990', step=0, timestamp=1761102769702, value=7.961251487435976>], model_id='m-0c1aad37d50c416abad8114a634a0ad4', name='workspace.default.nyc-taxi-model', params=[<LoggedModelParameter: key='verbose_eval', value='True'>,\n",
       " <LoggedModelParameter: key='max_depth', value='15'>,\n",
       " <LoggedModelParameter: key='learning_rate', value='0.21992487468175848'>,\n",
       " <LoggedModelParameter: key='custom_metric', value='None'>,\n",
       " <LoggedModelParameter: key='maximize', value='None'>,\n",
       " <LoggedModelParameter: key='num_boost_round', value='100'>,\n",
       " <LoggedModelParameter: key='seed', value='42'>,\n",
       " <LoggedModelParameter: key='min_child_weight', value='1.0357439143907545'>,\n",
       " <LoggedModelParameter: key='reg_lambda', value='0.23377457337376373'>,\n",
       " <LoggedModelParameter: key='reg_alpha', value='0.007731550026907306'>,\n",
       " <LoggedModelParameter: key='objective', value='reg:squarederror'>,\n",
       " <LoggedModelParameter: key='early_stopping_rounds', value='10'>], run_id='3a688c9c156648efa181e3064f9d3990', run_link=None, source='models:/m-0c1aad37d50c416abad8114a634a0ad4', status='READY', status_message='', tags={}, user_id='pipochatgpt@gmail.com', version='1'>"
      ]
     },
     "execution_count": 19,
     "metadata": {},
     "output_type": "execute_result"
    }
   ],
   "source": [
    "from datetime import datetime\n",
    "\n",
    "date = datetime.today()\n",
    "\n",
    "client.update_model_version(\n",
    "    name=model_name,\n",
    "    version=model_version,\n",
    "    description=f\"The model version {model_version} was transitioned to {new_alias} on {date}\",\n",
    ")"
   ]
  },
  {
   "cell_type": "markdown",
   "id": "70dfde9e",
   "metadata": {},
   "source": [
    "# **Obteniendo modelos del Model Registry**"
   ]
  },
  {
   "cell_type": "code",
   "execution_count": 22,
   "id": "a59924ab",
   "metadata": {},
   "outputs": [
    {
     "data": {
      "application/vnd.jupyter.widget-view+json": {
       "model_id": "32fec859792d4097942ec4ca5dfcfc3f",
       "version_major": 2,
       "version_minor": 0
      },
      "text/plain": [
       "Downloading artifacts:   0%|          | 0/8 [00:00<?, ?it/s]"
      ]
     },
     "metadata": {},
     "output_type": "display_data"
    },
    {
     "name": "stderr",
     "output_type": "stream",
     "text": [
      "c:\\Users\\diana\\Downloads\\nyc-taxi-predictions-2025\\.venv\\Lib\\site-packages\\mlflow\\xgboost\\__init__.py:321: UserWarning: [21:29:02] WARNING: C:\\actions-runner\\_work\\xgboost\\xgboost\\src\\c_api\\c_api.cc:1511: Unknown file format: `xgb`. Using UBJSON (`ubj`) as a guess.\n",
      "  model.load_model(xgb_model_path)\n"
     ]
    }
   ],
   "source": [
    "import mlflow.pyfunc\n",
    "\n",
    "model_version_uri = f\"models:/{model_name}@Champion\"\n",
    "\n",
    "champion_version = mlflow.pyfunc.load_model(model_version_uri)"
   ]
  },
  {
   "cell_type": "code",
   "execution_count": 23,
   "id": "8db843da",
   "metadata": {},
   "outputs": [
    {
     "ename": "MlflowException",
     "evalue": "Failed to enforce schema of data '<Compressed Sparse Row sparse matrix of dtype 'float64'\n\twith 44218 stored elements and shape (44218, 449)>\n  Coords\tValues\n  (0, 448)\t0.65\n  (1, 448)\t6.57\n  (2, 448)\t8.36\n  (3, 448)\t2.4\n  (4, 448)\t1.31\n  (5, 448)\t2.19\n  (6, 448)\t0.81\n  (7, 448)\t5.45\n  (8, 448)\t4.87\n  (9, 448)\t1.65\n  (10, 448)\t1.59\n  (11, 448)\t3.8\n  (12, 448)\t1.56\n  (13, 448)\t1.35\n  (14, 448)\t2.75\n  (15, 448)\t0.93\n  (16, 448)\t7.67\n  (17, 448)\t0.79\n  (18, 448)\t7.02\n  (19, 448)\t0.0\n  (20, 448)\t5.66\n  (21, 448)\t5.9\n  (22, 448)\t0.52\n  (23, 448)\t8.48\n  (24, 448)\t3.53\n  :\t:\n  (44193, 448)\t5.01\n  (44194, 448)\t0.0\n  (44195, 448)\t1.16\n  (44196, 448)\t0.01\n  (44197, 448)\t12.18\n  (44198, 448)\t6.05\n  (44199, 448)\t6.11\n  (44200, 448)\t12.28\n  (44201, 448)\t1.76\n  (44202, 448)\t3.84\n  (44203, 448)\t0.9\n  (44204, 448)\t0.97\n  (44205, 448)\t1.02\n  (44206, 448)\t6.12\n  (44207, 448)\t2.02\n  (44208, 448)\t0.0\n  (44209, 448)\t3.07\n  (44210, 448)\t3.7\n  (44211, 448)\t1.44\n  (44212, 448)\t4.49\n  (44213, 448)\t8.23\n  (44214, 448)\t4.1\n  (44215, 448)\t4.09\n  (44216, 448)\t2.25\n  (44217, 448)\t5.52' with schema '['DOLocationID=1': double (required), 'DOLocationID=10': double (required), 'DOLocationID=100': double (required), 'DOLocationID=101': double (required), 'DOLocationID=102': double (required), 'DOLocationID=106': double (required), 'DOLocationID=107': double (required), 'DOLocationID=108': double (required), 'DOLocationID=11': double (required), 'DOLocationID=111': double (required), 'DOLocationID=112': double (required), 'DOLocationID=113': double (required), 'DOLocationID=114': double (required), 'DOLocationID=116': double (required), 'DOLocationID=117': double (required), 'DOLocationID=119': double (required), 'DOLocationID=12': double (required), 'DOLocationID=120': double (required), 'DOLocationID=121': double (required), 'DOLocationID=122': double (required), 'DOLocationID=123': double (required), 'DOLocationID=124': double (required), 'DOLocationID=125': double (required), 'DOLocationID=126': double (required), 'DOLocationID=127': double (required), 'DOLocationID=128': double (required), 'DOLocationID=129': double (required), 'DOLocationID=13': double (required), 'DOLocationID=130': double (required), 'DOLocationID=131': double (required), 'DOLocationID=132': double (required), 'DOLocationID=133': double (required), 'DOLocationID=134': double (required), 'DOLocationID=135': double (required), 'DOLocationID=136': double (required), 'DOLocationID=137': double (required), 'DOLocationID=138': double (required), 'DOLocationID=139': double (required), 'DOLocationID=14': double (required), 'DOLocationID=140': double (required), 'DOLocationID=141': double (required), 'DOLocationID=142': double (required), 'DOLocationID=143': double (required), 'DOLocationID=144': double (required), 'DOLocationID=145': double (required), 'DOLocationID=146': double (required), 'DOLocationID=147': double (required), 'DOLocationID=148': double (required), 'DOLocationID=149': double (required), 'DOLocationID=15': double (required), 'DOLocationID=150': double (required), 'DOLocationID=151': double (required), 'DOLocationID=152': double (required), 'DOLocationID=153': double (required), 'DOLocationID=154': double (required), 'DOLocationID=155': double (required), 'DOLocationID=157': double (required), 'DOLocationID=158': double (required), 'DOLocationID=159': double (required), 'DOLocationID=16': double (required), 'DOLocationID=160': double (required), 'DOLocationID=161': double (required), 'DOLocationID=162': double (required), 'DOLocationID=163': double (required), 'DOLocationID=164': double (required), 'DOLocationID=165': double (required), 'DOLocationID=166': double (required), 'DOLocationID=167': double (required), 'DOLocationID=168': double (required), 'DOLocationID=169': double (required), 'DOLocationID=17': double (required), 'DOLocationID=170': double (required), 'DOLocationID=171': double (required), 'DOLocationID=173': double (required), 'DOLocationID=174': double (required), 'DOLocationID=175': double (required), 'DOLocationID=177': double (required), 'DOLocationID=178': double (required), 'DOLocationID=179': double (required), 'DOLocationID=18': double (required), 'DOLocationID=180': double (required), 'DOLocationID=181': double (required), 'DOLocationID=182': double (required), 'DOLocationID=183': double (required), 'DOLocationID=184': double (required), 'DOLocationID=185': double (required), 'DOLocationID=186': double (required), 'DOLocationID=188': double (required), 'DOLocationID=189': double (required), 'DOLocationID=19': double (required), 'DOLocationID=190': double (required), 'DOLocationID=191': double (required), 'DOLocationID=192': double (required), 'DOLocationID=193': double (required), 'DOLocationID=194': double (required), 'DOLocationID=195': double (required), 'DOLocationID=196': double (required), 'DOLocationID=197': double (required), 'DOLocationID=198': double (required), 'DOLocationID=20': double (required), 'DOLocationID=200': double (required), 'DOLocationID=201': double (required), 'DOLocationID=202': double (required), 'DOLocationID=203': double (required), 'DOLocationID=205': double (required), 'DOLocationID=207': double (required), 'DOLocationID=208': double (required), 'DOLocationID=209': double (required), 'DOLocationID=21': double (required), 'DOLocationID=210': double (required), 'DOLocationID=211': double (required), 'DOLocationID=212': double (required), 'DOLocationID=213': double (required), 'DOLocationID=215': double (required), 'DOLocationID=216': double (required), 'DOLocationID=217': double (required), 'DOLocationID=218': double (required), 'DOLocationID=219': double (required), 'DOLocationID=22': double (required), 'DOLocationID=220': double (required), 'DOLocationID=222': double (required), 'DOLocationID=223': double (required), 'DOLocationID=224': double (required), 'DOLocationID=225': double (required), 'DOLocationID=226': double (required), 'DOLocationID=227': double (required), 'DOLocationID=228': double (required), 'DOLocationID=229': double (required), 'DOLocationID=23': double (required), 'DOLocationID=230': double (required), 'DOLocationID=231': double (required), 'DOLocationID=232': double (required), 'DOLocationID=233': double (required), 'DOLocationID=234': double (required), 'DOLocationID=235': double (required), 'DOLocationID=236': double (required), 'DOLocationID=237': double (required), 'DOLocationID=238': double (required), 'DOLocationID=239': double (required), 'DOLocationID=24': double (required), 'DOLocationID=240': double (required), 'DOLocationID=241': double (required), 'DOLocationID=242': double (required), 'DOLocationID=243': double (required), 'DOLocationID=244': double (required), 'DOLocationID=245': double (required), 'DOLocationID=246': double (required), 'DOLocationID=247': double (required), 'DOLocationID=248': double (required), 'DOLocationID=249': double (required), 'DOLocationID=25': double (required), 'DOLocationID=250': double (required), 'DOLocationID=252': double (required), 'DOLocationID=253': double (required), 'DOLocationID=254': double (required), 'DOLocationID=255': double (required), 'DOLocationID=256': double (required), 'DOLocationID=257': double (required), 'DOLocationID=258': double (required), 'DOLocationID=259': double (required), 'DOLocationID=26': double (required), 'DOLocationID=260': double (required), 'DOLocationID=261': double (required), 'DOLocationID=262': double (required), 'DOLocationID=263': double (required), 'DOLocationID=264': double (required), 'DOLocationID=265': double (required), 'DOLocationID=27': double (required), 'DOLocationID=28': double (required), 'DOLocationID=29': double (required), 'DOLocationID=3': double (required), 'DOLocationID=31': double (required), 'DOLocationID=32': double (required), 'DOLocationID=33': double (required), 'DOLocationID=34': double (required), 'DOLocationID=35': double (required), 'DOLocationID=36': double (required), 'DOLocationID=37': double (required), 'DOLocationID=38': double (required), 'DOLocationID=39': double (required), 'DOLocationID=4': double (required), 'DOLocationID=40': double (required), 'DOLocationID=41': double (required), 'DOLocationID=42': double (required), 'DOLocationID=43': double (required), 'DOLocationID=45': double (required), 'DOLocationID=46': double (required), 'DOLocationID=47': double (required), 'DOLocationID=48': double (required), 'DOLocationID=49': double (required), 'DOLocationID=50': double (required), 'DOLocationID=51': double (required), 'DOLocationID=52': double (required), 'DOLocationID=53': double (required), 'DOLocationID=54': double (required), 'DOLocationID=55': double (required), 'DOLocationID=56': double (required), 'DOLocationID=57': double (required), 'DOLocationID=58': double (required), 'DOLocationID=60': double (required), 'DOLocationID=61': double (required), 'DOLocationID=62': double (required), 'DOLocationID=63': double (required), 'DOLocationID=64': double (required), 'DOLocationID=65': double (required), 'DOLocationID=66': double (required), 'DOLocationID=67': double (required), 'DOLocationID=68': double (required), 'DOLocationID=69': double (required), 'DOLocationID=7': double (required), 'DOLocationID=70': double (required), 'DOLocationID=71': double (required), 'DOLocationID=72': double (required), 'DOLocationID=73': double (required), 'DOLocationID=74': double (required), 'DOLocationID=75': double (required), 'DOLocationID=76': double (required), 'DOLocationID=77': double (required), 'DOLocationID=78': double (required), 'DOLocationID=79': double (required), 'DOLocationID=8': double (required), 'DOLocationID=80': double (required), 'DOLocationID=81': double (required), 'DOLocationID=82': double (required), 'DOLocationID=83': double (required), 'DOLocationID=85': double (required), 'DOLocationID=86': double (required), 'DOLocationID=87': double (required), 'DOLocationID=88': double (required), 'DOLocationID=89': double (required), 'DOLocationID=9': double (required), 'DOLocationID=90': double (required), 'DOLocationID=91': double (required), 'DOLocationID=92': double (required), 'DOLocationID=93': double (required), 'DOLocationID=94': double (required), 'DOLocationID=95': double (required), 'DOLocationID=96': double (required), 'DOLocationID=97': double (required), 'DOLocationID=98': double (required), 'PULocationID=10': double (required), 'PULocationID=101': double (required), 'PULocationID=102': double (required), 'PULocationID=106': double (required), 'PULocationID=107': double (required), 'PULocationID=108': double (required), 'PULocationID=11': double (required), 'PULocationID=112': double (required), 'PULocationID=116': double (required), 'PULocationID=117': double (required), 'PULocationID=119': double (required), 'PULocationID=120': double (required), 'PULocationID=121': double (required), 'PULocationID=122': double (required), 'PULocationID=123': double (required), 'PULocationID=124': double (required), 'PULocationID=125': double (required), 'PULocationID=126': double (required), 'PULocationID=127': double (required), 'PULocationID=128': double (required), 'PULocationID=129': double (required), 'PULocationID=130': double (required), 'PULocationID=131': double (required), 'PULocationID=132': double (required), 'PULocationID=133': double (required), 'PULocationID=134': double (required), 'PULocationID=135': double (required), 'PULocationID=136': double (required), 'PULocationID=137': double (required), 'PULocationID=138': double (required), 'PULocationID=139': double (required), 'PULocationID=14': double (required), 'PULocationID=140': double (required), 'PULocationID=142': double (required), 'PULocationID=143': double (required), 'PULocationID=145': double (required), 'PULocationID=146': double (required), 'PULocationID=147': double (required), 'PULocationID=149': double (required), 'PULocationID=15': double (required), 'PULocationID=150': double (required), 'PULocationID=151': double (required), 'PULocationID=152': double (required), 'PULocationID=153': double (required), 'PULocationID=154': double (required), 'PULocationID=155': double (required), 'PULocationID=157': double (required), 'PULocationID=159': double (required), 'PULocationID=16': double (required), 'PULocationID=160': double (required), 'PULocationID=161': double (required), 'PULocationID=165': double (required), 'PULocationID=166': double (required), 'PULocationID=167': double (required), 'PULocationID=168': double (required), 'PULocationID=169': double (required), 'PULocationID=17': double (required), 'PULocationID=171': double (required), 'PULocationID=173': double (required), 'PULocationID=174': double (required), 'PULocationID=177': double (required), 'PULocationID=178': double (required), 'PULocationID=179': double (required), 'PULocationID=18': double (required), 'PULocationID=180': double (required), 'PULocationID=181': double (required), 'PULocationID=182': double (required), 'PULocationID=183': double (required), 'PULocationID=184': double (required), 'PULocationID=185': double (required), 'PULocationID=188': double (required), 'PULocationID=189': double (required), 'PULocationID=19': double (required), 'PULocationID=190': double (required), 'PULocationID=191': double (required), 'PULocationID=192': double (required), 'PULocationID=193': double (required), 'PULocationID=194': double (required), 'PULocationID=195': double (required), 'PULocationID=196': double (required), 'PULocationID=197': double (required), 'PULocationID=198': double (required), 'PULocationID=20': double (required), 'PULocationID=200': double (required), 'PULocationID=202': double (required), 'PULocationID=203': double (required), 'PULocationID=205': double (required), 'PULocationID=206': double (required), 'PULocationID=207': double (required), 'PULocationID=208': double (required), 'PULocationID=21': double (required), 'PULocationID=210': double (required), 'PULocationID=211': double (required), 'PULocationID=212': double (required), 'PULocationID=213': double (required), 'PULocationID=215': double (required), 'PULocationID=216': double (required), 'PULocationID=217': double (required), 'PULocationID=218': double (required), 'PULocationID=219': double (required), 'PULocationID=22': double (required), 'PULocationID=220': double (required), 'PULocationID=222': double (required), 'PULocationID=223': double (required), 'PULocationID=225': double (required), 'PULocationID=226': double (required), 'PULocationID=227': double (required), 'PULocationID=228': double (required), 'PULocationID=23': double (required), 'PULocationID=230': double (required), 'PULocationID=232': double (required), 'PULocationID=233': double (required), 'PULocationID=235': double (required), 'PULocationID=236': double (required), 'PULocationID=237': double (required), 'PULocationID=238': double (required), 'PULocationID=24': double (required), 'PULocationID=240': double (required), 'PULocationID=241': double (required), 'PULocationID=242': double (required), 'PULocationID=243': double (required), 'PULocationID=244': double (required), 'PULocationID=246': double (required), 'PULocationID=247': double (required), 'PULocationID=248': double (required), 'PULocationID=25': double (required), 'PULocationID=250': double (required), 'PULocationID=252': double (required), 'PULocationID=253': double (required), 'PULocationID=254': double (required), 'PULocationID=255': double (required), 'PULocationID=256': double (required), 'PULocationID=257': double (required), 'PULocationID=258': double (required), 'PULocationID=259': double (required), 'PULocationID=26': double (required), 'PULocationID=260': double (required), 'PULocationID=262': double (required), 'PULocationID=263': double (required), 'PULocationID=264': double (required), 'PULocationID=265': double (required), 'PULocationID=28': double (required), 'PULocationID=29': double (required), 'PULocationID=3': double (required), 'PULocationID=32': double (required), 'PULocationID=33': double (required), 'PULocationID=34': double (required), 'PULocationID=35': double (required), 'PULocationID=36': double (required), 'PULocationID=37': double (required), 'PULocationID=38': double (required), 'PULocationID=39': double (required), 'PULocationID=40': double (required), 'PULocationID=41': double (required), 'PULocationID=42': double (required), 'PULocationID=43': double (required), 'PULocationID=45': double (required), 'PULocationID=46': double (required), 'PULocationID=47': double (required), 'PULocationID=48': double (required), 'PULocationID=49': double (required), 'PULocationID=51': double (required), 'PULocationID=52': double (required), 'PULocationID=53': double (required), 'PULocationID=54': double (required), 'PULocationID=55': double (required), 'PULocationID=56': double (required), 'PULocationID=57': double (required), 'PULocationID=58': double (required), 'PULocationID=6': double (required), 'PULocationID=60': double (required), 'PULocationID=61': double (required), 'PULocationID=62': double (required), 'PULocationID=63': double (required), 'PULocationID=64': double (required), 'PULocationID=65': double (required), 'PULocationID=66': double (required), 'PULocationID=67': double (required), 'PULocationID=68': double (required), 'PULocationID=69': double (required), 'PULocationID=7': double (required), 'PULocationID=70': double (required), 'PULocationID=71': double (required), 'PULocationID=72': double (required), 'PULocationID=73': double (required), 'PULocationID=74': double (required), 'PULocationID=75': double (required), 'PULocationID=76': double (required), 'PULocationID=77': double (required), 'PULocationID=78': double (required), 'PULocationID=8': double (required), 'PULocationID=80': double (required), 'PULocationID=81': double (required), 'PULocationID=82': double (required), 'PULocationID=83': double (required), 'PULocationID=85': double (required), 'PULocationID=87': double (required), 'PULocationID=89': double (required), 'PULocationID=9': double (required), 'PULocationID=90': double (required), 'PULocationID=91': double (required), 'PULocationID=92': double (required), 'PULocationID=93': double (required), 'PULocationID=94': double (required), 'PULocationID=95': double (required), 'PULocationID=96': double (required), 'PULocationID=97': double (required), 'PULocationID=98': double (required), 'trip_distance': double (required)]'. Error: Expected input to be DataFrame. Found: csr_matrix",
     "output_type": "error",
     "traceback": [
      "\u001b[31m---------------------------------------------------------------------------\u001b[39m",
      "\u001b[31mMlflowException\u001b[39m                           Traceback (most recent call last)",
      "\u001b[36mFile \u001b[39m\u001b[32mc:\\Users\\diana\\Downloads\\nyc-taxi-predictions-2025\\.venv\\Lib\\site-packages\\mlflow\\pyfunc\\__init__.py:735\u001b[39m, in \u001b[36m_validate_prediction_input\u001b[39m\u001b[34m(data, params, input_schema, params_schema, flavor)\u001b[39m\n\u001b[32m    734\u001b[39m \u001b[38;5;28;01mtry\u001b[39;00m:\n\u001b[32m--> \u001b[39m\u001b[32m735\u001b[39m     data = \u001b[43m_enforce_schema\u001b[49m\u001b[43m(\u001b[49m\u001b[43mdata\u001b[49m\u001b[43m,\u001b[49m\u001b[43m \u001b[49m\u001b[43minput_schema\u001b[49m\u001b[43m,\u001b[49m\u001b[43m \u001b[49m\u001b[43mflavor\u001b[49m\u001b[43m)\u001b[49m\n\u001b[32m    736\u001b[39m \u001b[38;5;28;01mexcept\u001b[39;00m \u001b[38;5;167;01mException\u001b[39;00m \u001b[38;5;28;01mas\u001b[39;00m e:\n",
      "\u001b[36mFile \u001b[39m\u001b[32mc:\\Users\\diana\\Downloads\\nyc-taxi-predictions-2025\\.venv\\Lib\\site-packages\\mlflow\\models\\utils.py:1223\u001b[39m, in \u001b[36m_enforce_schema\u001b[39m\u001b[34m(pf_input, input_schema, flavor)\u001b[39m\n\u001b[32m   1222\u001b[39m     \u001b[38;5;28;01mif\u001b[39;00m \u001b[38;5;129;01mnot\u001b[39;00m \u001b[38;5;28misinstance\u001b[39m(pf_input, pd.DataFrame):\n\u001b[32m-> \u001b[39m\u001b[32m1223\u001b[39m         \u001b[38;5;28;01mraise\u001b[39;00m MlflowException(\n\u001b[32m   1224\u001b[39m             \u001b[33mf\u001b[39m\u001b[33m\"\u001b[39m\u001b[33mExpected input to be DataFrame. Found: \u001b[39m\u001b[38;5;132;01m{\u001b[39;00m\u001b[38;5;28mtype\u001b[39m(pf_input).\u001b[34m__name__\u001b[39m\u001b[38;5;132;01m}\u001b[39;00m\u001b[33m\"\u001b[39m\n\u001b[32m   1225\u001b[39m         )\n\u001b[32m   1227\u001b[39m \u001b[38;5;28;01mif\u001b[39;00m input_schema.has_input_names():\n\u001b[32m   1228\u001b[39m     \u001b[38;5;66;03m# make sure there are no missing columns\u001b[39;00m\n",
      "\u001b[31mMlflowException\u001b[39m: Expected input to be DataFrame. Found: csr_matrix",
      "\nDuring handling of the above exception, another exception occurred:\n",
      "\u001b[31mMlflowException\u001b[39m                           Traceback (most recent call last)",
      "\u001b[36mCell\u001b[39m\u001b[36m \u001b[39m\u001b[32mIn[23]\u001b[39m\u001b[32m, line 1\u001b[39m\n\u001b[32m----> \u001b[39m\u001b[32m1\u001b[39m \u001b[43mchampion_version\u001b[49m\u001b[43m.\u001b[49m\u001b[43mpredict\u001b[49m\u001b[43m(\u001b[49m\u001b[43mX_val\u001b[49m\u001b[43m)\u001b[49m\n",
      "\u001b[36mFile \u001b[39m\u001b[32mc:\\Users\\diana\\Downloads\\nyc-taxi-predictions-2025\\.venv\\Lib\\site-packages\\mlflow\\pyfunc\\__init__.py:846\u001b[39m, in \u001b[36mPyFuncModel.predict\u001b[39m\u001b[34m(self, data, params)\u001b[39m\n\u001b[32m    844\u001b[39m \u001b[38;5;28;01mif\u001b[39;00m \u001b[38;5;28mself\u001b[39m.model_id:\n\u001b[32m    845\u001b[39m     context.update(model_id=\u001b[38;5;28mself\u001b[39m.model_id)\n\u001b[32m--> \u001b[39m\u001b[32m846\u001b[39m \u001b[38;5;28;01mreturn\u001b[39;00m \u001b[38;5;28;43mself\u001b[39;49m\u001b[43m.\u001b[49m\u001b[43m_predict\u001b[49m\u001b[43m(\u001b[49m\u001b[43mdata\u001b[49m\u001b[43m,\u001b[49m\u001b[43m \u001b[49m\u001b[43mparams\u001b[49m\u001b[43m)\u001b[49m\n",
      "\u001b[36mFile \u001b[39m\u001b[32mc:\\Users\\diana\\Downloads\\nyc-taxi-predictions-2025\\.venv\\Lib\\site-packages\\mlflow\\pyfunc\\__init__.py:885\u001b[39m, in \u001b[36mPyFuncModel._predict\u001b[39m\u001b[34m(self, data, params)\u001b[39m\n\u001b[32m    883\u001b[39m     params = _enforce_params_schema(params, \u001b[38;5;28mself\u001b[39m.params_schema)\n\u001b[32m    884\u001b[39m \u001b[38;5;28;01melse\u001b[39;00m:\n\u001b[32m--> \u001b[39m\u001b[32m885\u001b[39m     data, params = \u001b[43m_validate_prediction_input\u001b[49m\u001b[43m(\u001b[49m\n\u001b[32m    886\u001b[39m \u001b[43m        \u001b[49m\u001b[43mdata\u001b[49m\u001b[43m,\u001b[49m\u001b[43m \u001b[49m\u001b[43mparams\u001b[49m\u001b[43m,\u001b[49m\u001b[43m \u001b[49m\u001b[38;5;28;43mself\u001b[39;49m\u001b[43m.\u001b[49m\u001b[43minput_schema\u001b[49m\u001b[43m,\u001b[49m\u001b[43m \u001b[49m\u001b[38;5;28;43mself\u001b[39;49m\u001b[43m.\u001b[49m\u001b[43mparams_schema\u001b[49m\u001b[43m,\u001b[49m\u001b[43m \u001b[49m\u001b[38;5;28;43mself\u001b[39;49m\u001b[43m.\u001b[49m\u001b[43mloader_module\u001b[49m\n\u001b[32m    887\u001b[39m \u001b[43m    \u001b[49m\u001b[43m)\u001b[49m\n\u001b[32m    888\u001b[39m     \u001b[38;5;28;01mif\u001b[39;00m (\n\u001b[32m    889\u001b[39m         \u001b[38;5;28misinstance\u001b[39m(data, pandas.DataFrame)\n\u001b[32m    890\u001b[39m         \u001b[38;5;129;01mand\u001b[39;00m \u001b[38;5;28mself\u001b[39m.metadata._is_type_hint_from_example()\n\u001b[32m    891\u001b[39m         \u001b[38;5;129;01mand\u001b[39;00m \u001b[38;5;28mself\u001b[39m.input_example \u001b[38;5;129;01mis\u001b[39;00m \u001b[38;5;129;01mnot\u001b[39;00m \u001b[38;5;28;01mNone\u001b[39;00m\n\u001b[32m    892\u001b[39m     ):\n\u001b[32m    893\u001b[39m         data = _convert_dataframe_to_example_format(data, \u001b[38;5;28mself\u001b[39m.input_example)\n",
      "\u001b[36mFile \u001b[39m\u001b[32mc:\\Users\\diana\\Downloads\\nyc-taxi-predictions-2025\\.venv\\Lib\\site-packages\\mlflow\\pyfunc\\__init__.py:746\u001b[39m, in \u001b[36m_validate_prediction_input\u001b[39m\u001b[34m(data, params, input_schema, params_schema, flavor)\u001b[39m\n\u001b[32m    739\u001b[39m         \u001b[38;5;28;01melse\u001b[39;00m:\n\u001b[32m    740\u001b[39m             \u001b[38;5;66;03m# Include error in message for backwards compatibility\u001b[39;00m\n\u001b[32m    741\u001b[39m             message = (\n\u001b[32m    742\u001b[39m                 \u001b[33mf\u001b[39m\u001b[33m\"\u001b[39m\u001b[33mFailed to enforce schema of data \u001b[39m\u001b[33m'\u001b[39m\u001b[38;5;132;01m{\u001b[39;00mdata\u001b[38;5;132;01m}\u001b[39;00m\u001b[33m'\u001b[39m\u001b[33m \u001b[39m\u001b[33m\"\u001b[39m\n\u001b[32m    743\u001b[39m                 \u001b[33mf\u001b[39m\u001b[33m\"\u001b[39m\u001b[33mwith schema \u001b[39m\u001b[33m'\u001b[39m\u001b[38;5;132;01m{\u001b[39;00minput_schema\u001b[38;5;132;01m}\u001b[39;00m\u001b[33m'\u001b[39m\u001b[33m. \u001b[39m\u001b[33m\"\u001b[39m\n\u001b[32m    744\u001b[39m                 \u001b[33mf\u001b[39m\u001b[33m\"\u001b[39m\u001b[33mError: \u001b[39m\u001b[38;5;132;01m{\u001b[39;00me\u001b[38;5;132;01m}\u001b[39;00m\u001b[33m\"\u001b[39m\n\u001b[32m    745\u001b[39m             )\n\u001b[32m--> \u001b[39m\u001b[32m746\u001b[39m         \u001b[38;5;28;01mraise\u001b[39;00m MlflowException.invalid_parameter_value(message)\n\u001b[32m    747\u001b[39m params = _enforce_params_schema(params, params_schema)\n\u001b[32m    748\u001b[39m \u001b[38;5;28;01mif\u001b[39;00m HAS_PYSPARK \u001b[38;5;129;01mand\u001b[39;00m \u001b[38;5;28misinstance\u001b[39m(data, SparkDataFrame):\n",
      "\u001b[31mMlflowException\u001b[39m: Failed to enforce schema of data '<Compressed Sparse Row sparse matrix of dtype 'float64'\n\twith 44218 stored elements and shape (44218, 449)>\n  Coords\tValues\n  (0, 448)\t0.65\n  (1, 448)\t6.57\n  (2, 448)\t8.36\n  (3, 448)\t2.4\n  (4, 448)\t1.31\n  (5, 448)\t2.19\n  (6, 448)\t0.81\n  (7, 448)\t5.45\n  (8, 448)\t4.87\n  (9, 448)\t1.65\n  (10, 448)\t1.59\n  (11, 448)\t3.8\n  (12, 448)\t1.56\n  (13, 448)\t1.35\n  (14, 448)\t2.75\n  (15, 448)\t0.93\n  (16, 448)\t7.67\n  (17, 448)\t0.79\n  (18, 448)\t7.02\n  (19, 448)\t0.0\n  (20, 448)\t5.66\n  (21, 448)\t5.9\n  (22, 448)\t0.52\n  (23, 448)\t8.48\n  (24, 448)\t3.53\n  :\t:\n  (44193, 448)\t5.01\n  (44194, 448)\t0.0\n  (44195, 448)\t1.16\n  (44196, 448)\t0.01\n  (44197, 448)\t12.18\n  (44198, 448)\t6.05\n  (44199, 448)\t6.11\n  (44200, 448)\t12.28\n  (44201, 448)\t1.76\n  (44202, 448)\t3.84\n  (44203, 448)\t0.9\n  (44204, 448)\t0.97\n  (44205, 448)\t1.02\n  (44206, 448)\t6.12\n  (44207, 448)\t2.02\n  (44208, 448)\t0.0\n  (44209, 448)\t3.07\n  (44210, 448)\t3.7\n  (44211, 448)\t1.44\n  (44212, 448)\t4.49\n  (44213, 448)\t8.23\n  (44214, 448)\t4.1\n  (44215, 448)\t4.09\n  (44216, 448)\t2.25\n  (44217, 448)\t5.52' with schema '['DOLocationID=1': double (required), 'DOLocationID=10': double (required), 'DOLocationID=100': double (required), 'DOLocationID=101': double (required), 'DOLocationID=102': double (required), 'DOLocationID=106': double (required), 'DOLocationID=107': double (required), 'DOLocationID=108': double (required), 'DOLocationID=11': double (required), 'DOLocationID=111': double (required), 'DOLocationID=112': double (required), 'DOLocationID=113': double (required), 'DOLocationID=114': double (required), 'DOLocationID=116': double (required), 'DOLocationID=117': double (required), 'DOLocationID=119': double (required), 'DOLocationID=12': double (required), 'DOLocationID=120': double (required), 'DOLocationID=121': double (required), 'DOLocationID=122': double (required), 'DOLocationID=123': double (required), 'DOLocationID=124': double (required), 'DOLocationID=125': double (required), 'DOLocationID=126': double (required), 'DOLocationID=127': double (required), 'DOLocationID=128': double (required), 'DOLocationID=129': double (required), 'DOLocationID=13': double (required), 'DOLocationID=130': double (required), 'DOLocationID=131': double (required), 'DOLocationID=132': double (required), 'DOLocationID=133': double (required), 'DOLocationID=134': double (required), 'DOLocationID=135': double (required), 'DOLocationID=136': double (required), 'DOLocationID=137': double (required), 'DOLocationID=138': double (required), 'DOLocationID=139': double (required), 'DOLocationID=14': double (required), 'DOLocationID=140': double (required), 'DOLocationID=141': double (required), 'DOLocationID=142': double (required), 'DOLocationID=143': double (required), 'DOLocationID=144': double (required), 'DOLocationID=145': double (required), 'DOLocationID=146': double (required), 'DOLocationID=147': double (required), 'DOLocationID=148': double (required), 'DOLocationID=149': double (required), 'DOLocationID=15': double (required), 'DOLocationID=150': double (required), 'DOLocationID=151': double (required), 'DOLocationID=152': double (required), 'DOLocationID=153': double (required), 'DOLocationID=154': double (required), 'DOLocationID=155': double (required), 'DOLocationID=157': double (required), 'DOLocationID=158': double (required), 'DOLocationID=159': double (required), 'DOLocationID=16': double (required), 'DOLocationID=160': double (required), 'DOLocationID=161': double (required), 'DOLocationID=162': double (required), 'DOLocationID=163': double (required), 'DOLocationID=164': double (required), 'DOLocationID=165': double (required), 'DOLocationID=166': double (required), 'DOLocationID=167': double (required), 'DOLocationID=168': double (required), 'DOLocationID=169': double (required), 'DOLocationID=17': double (required), 'DOLocationID=170': double (required), 'DOLocationID=171': double (required), 'DOLocationID=173': double (required), 'DOLocationID=174': double (required), 'DOLocationID=175': double (required), 'DOLocationID=177': double (required), 'DOLocationID=178': double (required), 'DOLocationID=179': double (required), 'DOLocationID=18': double (required), 'DOLocationID=180': double (required), 'DOLocationID=181': double (required), 'DOLocationID=182': double (required), 'DOLocationID=183': double (required), 'DOLocationID=184': double (required), 'DOLocationID=185': double (required), 'DOLocationID=186': double (required), 'DOLocationID=188': double (required), 'DOLocationID=189': double (required), 'DOLocationID=19': double (required), 'DOLocationID=190': double (required), 'DOLocationID=191': double (required), 'DOLocationID=192': double (required), 'DOLocationID=193': double (required), 'DOLocationID=194': double (required), 'DOLocationID=195': double (required), 'DOLocationID=196': double (required), 'DOLocationID=197': double (required), 'DOLocationID=198': double (required), 'DOLocationID=20': double (required), 'DOLocationID=200': double (required), 'DOLocationID=201': double (required), 'DOLocationID=202': double (required), 'DOLocationID=203': double (required), 'DOLocationID=205': double (required), 'DOLocationID=207': double (required), 'DOLocationID=208': double (required), 'DOLocationID=209': double (required), 'DOLocationID=21': double (required), 'DOLocationID=210': double (required), 'DOLocationID=211': double (required), 'DOLocationID=212': double (required), 'DOLocationID=213': double (required), 'DOLocationID=215': double (required), 'DOLocationID=216': double (required), 'DOLocationID=217': double (required), 'DOLocationID=218': double (required), 'DOLocationID=219': double (required), 'DOLocationID=22': double (required), 'DOLocationID=220': double (required), 'DOLocationID=222': double (required), 'DOLocationID=223': double (required), 'DOLocationID=224': double (required), 'DOLocationID=225': double (required), 'DOLocationID=226': double (required), 'DOLocationID=227': double (required), 'DOLocationID=228': double (required), 'DOLocationID=229': double (required), 'DOLocationID=23': double (required), 'DOLocationID=230': double (required), 'DOLocationID=231': double (required), 'DOLocationID=232': double (required), 'DOLocationID=233': double (required), 'DOLocationID=234': double (required), 'DOLocationID=235': double (required), 'DOLocationID=236': double (required), 'DOLocationID=237': double (required), 'DOLocationID=238': double (required), 'DOLocationID=239': double (required), 'DOLocationID=24': double (required), 'DOLocationID=240': double (required), 'DOLocationID=241': double (required), 'DOLocationID=242': double (required), 'DOLocationID=243': double (required), 'DOLocationID=244': double (required), 'DOLocationID=245': double (required), 'DOLocationID=246': double (required), 'DOLocationID=247': double (required), 'DOLocationID=248': double (required), 'DOLocationID=249': double (required), 'DOLocationID=25': double (required), 'DOLocationID=250': double (required), 'DOLocationID=252': double (required), 'DOLocationID=253': double (required), 'DOLocationID=254': double (required), 'DOLocationID=255': double (required), 'DOLocationID=256': double (required), 'DOLocationID=257': double (required), 'DOLocationID=258': double (required), 'DOLocationID=259': double (required), 'DOLocationID=26': double (required), 'DOLocationID=260': double (required), 'DOLocationID=261': double (required), 'DOLocationID=262': double (required), 'DOLocationID=263': double (required), 'DOLocationID=264': double (required), 'DOLocationID=265': double (required), 'DOLocationID=27': double (required), 'DOLocationID=28': double (required), 'DOLocationID=29': double (required), 'DOLocationID=3': double (required), 'DOLocationID=31': double (required), 'DOLocationID=32': double (required), 'DOLocationID=33': double (required), 'DOLocationID=34': double (required), 'DOLocationID=35': double (required), 'DOLocationID=36': double (required), 'DOLocationID=37': double (required), 'DOLocationID=38': double (required), 'DOLocationID=39': double (required), 'DOLocationID=4': double (required), 'DOLocationID=40': double (required), 'DOLocationID=41': double (required), 'DOLocationID=42': double (required), 'DOLocationID=43': double (required), 'DOLocationID=45': double (required), 'DOLocationID=46': double (required), 'DOLocationID=47': double (required), 'DOLocationID=48': double (required), 'DOLocationID=49': double (required), 'DOLocationID=50': double (required), 'DOLocationID=51': double (required), 'DOLocationID=52': double (required), 'DOLocationID=53': double (required), 'DOLocationID=54': double (required), 'DOLocationID=55': double (required), 'DOLocationID=56': double (required), 'DOLocationID=57': double (required), 'DOLocationID=58': double (required), 'DOLocationID=60': double (required), 'DOLocationID=61': double (required), 'DOLocationID=62': double (required), 'DOLocationID=63': double (required), 'DOLocationID=64': double (required), 'DOLocationID=65': double (required), 'DOLocationID=66': double (required), 'DOLocationID=67': double (required), 'DOLocationID=68': double (required), 'DOLocationID=69': double (required), 'DOLocationID=7': double (required), 'DOLocationID=70': double (required), 'DOLocationID=71': double (required), 'DOLocationID=72': double (required), 'DOLocationID=73': double (required), 'DOLocationID=74': double (required), 'DOLocationID=75': double (required), 'DOLocationID=76': double (required), 'DOLocationID=77': double (required), 'DOLocationID=78': double (required), 'DOLocationID=79': double (required), 'DOLocationID=8': double (required), 'DOLocationID=80': double (required), 'DOLocationID=81': double (required), 'DOLocationID=82': double (required), 'DOLocationID=83': double (required), 'DOLocationID=85': double (required), 'DOLocationID=86': double (required), 'DOLocationID=87': double (required), 'DOLocationID=88': double (required), 'DOLocationID=89': double (required), 'DOLocationID=9': double (required), 'DOLocationID=90': double (required), 'DOLocationID=91': double (required), 'DOLocationID=92': double (required), 'DOLocationID=93': double (required), 'DOLocationID=94': double (required), 'DOLocationID=95': double (required), 'DOLocationID=96': double (required), 'DOLocationID=97': double (required), 'DOLocationID=98': double (required), 'PULocationID=10': double (required), 'PULocationID=101': double (required), 'PULocationID=102': double (required), 'PULocationID=106': double (required), 'PULocationID=107': double (required), 'PULocationID=108': double (required), 'PULocationID=11': double (required), 'PULocationID=112': double (required), 'PULocationID=116': double (required), 'PULocationID=117': double (required), 'PULocationID=119': double (required), 'PULocationID=120': double (required), 'PULocationID=121': double (required), 'PULocationID=122': double (required), 'PULocationID=123': double (required), 'PULocationID=124': double (required), 'PULocationID=125': double (required), 'PULocationID=126': double (required), 'PULocationID=127': double (required), 'PULocationID=128': double (required), 'PULocationID=129': double (required), 'PULocationID=130': double (required), 'PULocationID=131': double (required), 'PULocationID=132': double (required), 'PULocationID=133': double (required), 'PULocationID=134': double (required), 'PULocationID=135': double (required), 'PULocationID=136': double (required), 'PULocationID=137': double (required), 'PULocationID=138': double (required), 'PULocationID=139': double (required), 'PULocationID=14': double (required), 'PULocationID=140': double (required), 'PULocationID=142': double (required), 'PULocationID=143': double (required), 'PULocationID=145': double (required), 'PULocationID=146': double (required), 'PULocationID=147': double (required), 'PULocationID=149': double (required), 'PULocationID=15': double (required), 'PULocationID=150': double (required), 'PULocationID=151': double (required), 'PULocationID=152': double (required), 'PULocationID=153': double (required), 'PULocationID=154': double (required), 'PULocationID=155': double (required), 'PULocationID=157': double (required), 'PULocationID=159': double (required), 'PULocationID=16': double (required), 'PULocationID=160': double (required), 'PULocationID=161': double (required), 'PULocationID=165': double (required), 'PULocationID=166': double (required), 'PULocationID=167': double (required), 'PULocationID=168': double (required), 'PULocationID=169': double (required), 'PULocationID=17': double (required), 'PULocationID=171': double (required), 'PULocationID=173': double (required), 'PULocationID=174': double (required), 'PULocationID=177': double (required), 'PULocationID=178': double (required), 'PULocationID=179': double (required), 'PULocationID=18': double (required), 'PULocationID=180': double (required), 'PULocationID=181': double (required), 'PULocationID=182': double (required), 'PULocationID=183': double (required), 'PULocationID=184': double (required), 'PULocationID=185': double (required), 'PULocationID=188': double (required), 'PULocationID=189': double (required), 'PULocationID=19': double (required), 'PULocationID=190': double (required), 'PULocationID=191': double (required), 'PULocationID=192': double (required), 'PULocationID=193': double (required), 'PULocationID=194': double (required), 'PULocationID=195': double (required), 'PULocationID=196': double (required), 'PULocationID=197': double (required), 'PULocationID=198': double (required), 'PULocationID=20': double (required), 'PULocationID=200': double (required), 'PULocationID=202': double (required), 'PULocationID=203': double (required), 'PULocationID=205': double (required), 'PULocationID=206': double (required), 'PULocationID=207': double (required), 'PULocationID=208': double (required), 'PULocationID=21': double (required), 'PULocationID=210': double (required), 'PULocationID=211': double (required), 'PULocationID=212': double (required), 'PULocationID=213': double (required), 'PULocationID=215': double (required), 'PULocationID=216': double (required), 'PULocationID=217': double (required), 'PULocationID=218': double (required), 'PULocationID=219': double (required), 'PULocationID=22': double (required), 'PULocationID=220': double (required), 'PULocationID=222': double (required), 'PULocationID=223': double (required), 'PULocationID=225': double (required), 'PULocationID=226': double (required), 'PULocationID=227': double (required), 'PULocationID=228': double (required), 'PULocationID=23': double (required), 'PULocationID=230': double (required), 'PULocationID=232': double (required), 'PULocationID=233': double (required), 'PULocationID=235': double (required), 'PULocationID=236': double (required), 'PULocationID=237': double (required), 'PULocationID=238': double (required), 'PULocationID=24': double (required), 'PULocationID=240': double (required), 'PULocationID=241': double (required), 'PULocationID=242': double (required), 'PULocationID=243': double (required), 'PULocationID=244': double (required), 'PULocationID=246': double (required), 'PULocationID=247': double (required), 'PULocationID=248': double (required), 'PULocationID=25': double (required), 'PULocationID=250': double (required), 'PULocationID=252': double (required), 'PULocationID=253': double (required), 'PULocationID=254': double (required), 'PULocationID=255': double (required), 'PULocationID=256': double (required), 'PULocationID=257': double (required), 'PULocationID=258': double (required), 'PULocationID=259': double (required), 'PULocationID=26': double (required), 'PULocationID=260': double (required), 'PULocationID=262': double (required), 'PULocationID=263': double (required), 'PULocationID=264': double (required), 'PULocationID=265': double (required), 'PULocationID=28': double (required), 'PULocationID=29': double (required), 'PULocationID=3': double (required), 'PULocationID=32': double (required), 'PULocationID=33': double (required), 'PULocationID=34': double (required), 'PULocationID=35': double (required), 'PULocationID=36': double (required), 'PULocationID=37': double (required), 'PULocationID=38': double (required), 'PULocationID=39': double (required), 'PULocationID=40': double (required), 'PULocationID=41': double (required), 'PULocationID=42': double (required), 'PULocationID=43': double (required), 'PULocationID=45': double (required), 'PULocationID=46': double (required), 'PULocationID=47': double (required), 'PULocationID=48': double (required), 'PULocationID=49': double (required), 'PULocationID=51': double (required), 'PULocationID=52': double (required), 'PULocationID=53': double (required), 'PULocationID=54': double (required), 'PULocationID=55': double (required), 'PULocationID=56': double (required), 'PULocationID=57': double (required), 'PULocationID=58': double (required), 'PULocationID=6': double (required), 'PULocationID=60': double (required), 'PULocationID=61': double (required), 'PULocationID=62': double (required), 'PULocationID=63': double (required), 'PULocationID=64': double (required), 'PULocationID=65': double (required), 'PULocationID=66': double (required), 'PULocationID=67': double (required), 'PULocationID=68': double (required), 'PULocationID=69': double (required), 'PULocationID=7': double (required), 'PULocationID=70': double (required), 'PULocationID=71': double (required), 'PULocationID=72': double (required), 'PULocationID=73': double (required), 'PULocationID=74': double (required), 'PULocationID=75': double (required), 'PULocationID=76': double (required), 'PULocationID=77': double (required), 'PULocationID=78': double (required), 'PULocationID=8': double (required), 'PULocationID=80': double (required), 'PULocationID=81': double (required), 'PULocationID=82': double (required), 'PULocationID=83': double (required), 'PULocationID=85': double (required), 'PULocationID=87': double (required), 'PULocationID=89': double (required), 'PULocationID=9': double (required), 'PULocationID=90': double (required), 'PULocationID=91': double (required), 'PULocationID=92': double (required), 'PULocationID=93': double (required), 'PULocationID=94': double (required), 'PULocationID=95': double (required), 'PULocationID=96': double (required), 'PULocationID=97': double (required), 'PULocationID=98': double (required), 'trip_distance': double (required)]'. Error: Expected input to be DataFrame. Found: csr_matrix"
     ]
    }
   ],
   "source": [
    "champion_version.predict(X_val)"
   ]
  }
 ],
 "metadata": {
  "kernelspec": {
   "display_name": "nyc-taxi-predictions-2025",
   "language": "python",
   "name": "python3"
  },
  "language_info": {
   "codemirror_mode": {
    "name": "ipython",
    "version": 3
   },
   "file_extension": ".py",
   "mimetype": "text/x-python",
   "name": "python",
   "nbconvert_exporter": "python",
   "pygments_lexer": "ipython3",
   "version": "3.12.4"
  }
 },
 "nbformat": 4,
 "nbformat_minor": 5
}
